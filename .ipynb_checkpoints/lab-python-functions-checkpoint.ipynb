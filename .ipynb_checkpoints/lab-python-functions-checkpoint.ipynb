{
 "cells": [
  {
   "cell_type": "markdown",
   "id": "25d7736c-ba17-4aff-b6bb-66eba20fbf4e",
   "metadata": {},
   "source": [
    "# Lab | Functions"
   ]
  },
  {
   "cell_type": "markdown",
   "id": "0c581062-8967-4d93-b06e-62833222f930",
   "metadata": {
    "tags": []
   },
   "source": [
    "## Exercise: Managing Customer Orders with Functions\n",
    "\n",
    "In the previous exercise, you improved the code for managing customer orders by using loops and flow control. Now, let's take it a step further and refactor the code by introducing functions.\n",
    "\n",
    "Follow the steps below to complete the exercise:\n",
    "\n",
    "1. Define a function named `initialize_inventory` that takes `products` as a parameter. Inside the function, implement the code for initializing the inventory dictionary using a loop and user input.\n",
    "\n",
    "2. Define a function named `get_customer_orders` that takes no parameters. Inside the function, implement the code for prompting the user to enter the product names using a loop. The function should return the `customer_orders` set.\n",
    "\n",
    "3. Define a function named `update_inventory` that takes `customer_orders` and `inventory` as parameters. Inside the function, implement the code for updating the inventory dictionary based on the customer orders.\n",
    "\n",
    "4. Define a function named `calculate_order_statistics` that takes `customer_orders` and `products` as parameters. Inside the function, implement the code for calculating the order statistics (total products ordered, and percentage of unique products ordered). The function should return these values.\n",
    "\n",
    "5. Define a function named `print_order_statistics` that takes `order_statistics` as a parameter. Inside the function, implement the code for printing the order statistics.\n",
    "\n",
    "6. Define a function named `print_updated_inventory` that takes `inventory` as a parameter. Inside the function, implement the code for printing the updated inventory.\n",
    "\n",
    "7. Call the functions in the appropriate sequence to execute the program and manage customer orders.\n",
    "\n",
    "Hints for functions:\n",
    "\n",
    "- Consider the input parameters required for each function and their return values.\n",
    "- Utilize function parameters and return values to transfer data between functions.\n",
    "- Test your functions individually to ensure they work correctly.\n",
    "\n",
    "\n"
   ]
  },
  {
   "cell_type": "code",
   "execution_count": null,
   "id": "b396945d-484e-4a4a-84de-6d009459e53b",
   "metadata": {},
   "outputs": [],
   "source": [
    "#copied from previous lab\n",
    "products = [\"t-shirt\", \"mug\", \"hat\", \"book\", \"keychain\"]\n",
    "inventory = {}"
   ]
  },
  {
   "cell_type": "code",
   "execution_count": null,
   "id": "9b537cc6-e269-4d14-8af6-369767df36ea",
   "metadata": {},
   "outputs": [],
   "source": [
    "def initialize_inventory(products):\n",
    "    total_available_products = 0\n",
    "    \n",
    "    for product in products:\n",
    "        quantity = int(input(f\"How many {product}s available?\"))\n",
    "        inventory[product] = quantity\n",
    "        total_available_products += quantity \n",
    "        \n",
    "    return total_available_products"
   ]
  },
  {
   "cell_type": "code",
   "execution_count": null,
   "id": "61d1fbf2-c842-459b-8ce3-a8c846348809",
   "metadata": {},
   "outputs": [],
   "source": [
    "customer_orders = set() # Back to a set because the instructions say so, but I don't know how this takes into account people ordering, for example, multiple books"
   ]
  },
  {
   "cell_type": "code",
   "execution_count": null,
   "id": "d8b20cfa-8148-42e2-bbcb-e4bff2d060bd",
   "metadata": {},
   "outputs": [],
   "source": [
    "def get_customer_orders():\n",
    "    ordering = True\n",
    "\n",
    "    while ordering:\n",
    "        order = input(\"Which item would you like to order?\").strip().lower()\n",
    "\n",
    "        if order in products:\n",
    "            customer_orders.add(order)\n",
    "        \n",
    "            while True: # loop-in-loop\n",
    "                next_order = input(\"Would you like to order anything else?\").strip().lower()\n",
    "                if next_order == \"yes\":\n",
    "                    break # back to the main loop\n",
    "                elif next_order == \"no\":\n",
    "                    ordering = False # outer loop stops\n",
    "                    break # from inner and outer loop\n",
    "                else: \n",
    "                    print(\"Please enter 'yes' or 'no'.\")\n",
    "        else: \n",
    "            print(\"Sorry, that product is not available. Please choose a different item.\")\n",
    "\n",
    "    print(\"Thank you for shopping.\\n\")\n",
    "    return customer_orders "
   ]
  },
  {
   "cell_type": "code",
   "execution_count": null,
   "id": "eb9808ed-bf01-45b4-af45-c1dd18319513",
   "metadata": {},
   "outputs": [],
   "source": [
    "print(\"Customer orders: \", customer_orders)"
   ]
  },
  {
   "cell_type": "code",
   "execution_count": null,
   "id": "f9b3a5b8-12f2-4e9b-9016-0124e6d60a6f",
   "metadata": {},
   "outputs": [],
   "source": [
    "def update_inventory(customer_orders, inventory):\n",
    "    for item in customer_orders:\n",
    "        if inventory[item] > 0: # 1 ordered is 1 down in inventory\n",
    "            inventory[item] -= 1\n",
    "\n"
   ]
  },
  {
   "cell_type": "code",
   "execution_count": null,
   "id": "9b90fb25-76c0-4c69-a7cd-f63673af9b17",
   "metadata": {},
   "outputs": [],
   "source": [
    "def calculate_order_statistics(customer_orders, products):\n",
    "    total_products_ordered = len(customer_orders)\n",
    "    percentage_ordered = (total_products_ordered / total_available_products) * 100\n",
    "    \n",
    "    return total_products_ordered, percentage_ordered"
   ]
  },
  {
   "cell_type": "code",
   "execution_count": null,
   "id": "bd9328f7-203f-445e-a690-43d2937abc28",
   "metadata": {},
   "outputs": [],
   "source": [
    "def print_order_statistics(order_statistics):\n",
    "    order_statistics = total_products_ordered, percentage_ordered\n",
    "    print(f\"The total number of products ordered is {total_products_ordered}.\")\n",
    "    print(f\"Percentage of Products Ordered: {percentage_ordered:.2f}%\")\n",
    "\n",
    "def print_order_statistics(order_statistics):\n",
    "    total_products_ordered, percentage_ordered = order_statistics\n",
    "    print(f\"The total number of products ordered is {total_products_ordered}.\\n\")\n",
    "    print(f\"Percentage of Products Ordered: {percentage_ordered:.2f}%\\n\")"
   ]
  },
  {
   "cell_type": "code",
   "execution_count": null,
   "id": "ba6d91a6-1cba-424d-b6a3-d48d5e90a623",
   "metadata": {},
   "outputs": [],
   "source": [
    "def print_updated_inventory(inventory):\n",
    "    print(\"Updated inventory:\")\n",
    "    for item, quantity in inventory.items():\n",
    "        print(f\"{item}: {quantity}\")"
   ]
  },
  {
   "cell_type": "code",
   "execution_count": null,
   "id": "6094d3db-0974-44c3-8207-42dce02d00ca",
   "metadata": {},
   "outputs": [],
   "source": [
    "total_available_products = initialize_inventory(products)\n",
    "print(total_available_products)\n",
    "print(inventory) \n",
    "get_customer_orders()\n",
    "update_inventory(customer_orders, inventory)\n",
    "calculate_order_statistics(customer_orders, products)\n",
    "order_statistics = calculate_order_statistics(customer_orders, products)\n",
    "print_order_statistics(order_statistics)\n",
    "print_updated_inventory(inventory)"
   ]
  },
  {
   "cell_type": "code",
   "execution_count": null,
   "id": "12114816-a8d9-42d0-a687-d99dbf9d6259",
   "metadata": {},
   "outputs": [],
   "source": []
  }
 ],
 "metadata": {
  "kernelspec": {
   "display_name": "Python [conda env:base] *",
   "language": "python",
   "name": "conda-base-py"
  },
  "language_info": {
   "codemirror_mode": {
    "name": "ipython",
    "version": 3
   },
   "file_extension": ".py",
   "mimetype": "text/x-python",
   "name": "python",
   "nbconvert_exporter": "python",
   "pygments_lexer": "ipython3",
   "version": "3.12.7"
  }
 },
 "nbformat": 4,
 "nbformat_minor": 5
}
